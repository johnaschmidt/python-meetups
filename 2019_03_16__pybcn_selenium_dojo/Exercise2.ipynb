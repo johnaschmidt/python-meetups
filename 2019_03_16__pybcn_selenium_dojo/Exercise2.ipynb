{
 "cells": [
  {
   "cell_type": "code",
   "execution_count": 1,
   "metadata": {},
   "outputs": [
    {
     "data": {
      "text/html": [
       "\n",
       "<div class = \"alert alert-success\" style = \"border-radius:10px;border-width:3px;border-color:darkgreen;font-family:Verdana,sans-serif;font-size:16px;\">\n",
       "**Selenium EXERCISE 2:** <BR>\n",
       "<ul>\n",
       "<li> Open a browser \n",
       "\n",
       "<li>Go to 'http://www.cinemeseixmacia.com/'\n",
       "\n",
       "<li>Find all the movies for today between 18:00 and 20:00, and classifacation rate 16\n",
       "\n",
       "<li>Print for each movie title a link to a search using google inside imdb site. For example:\n",
       "    https://www.google.es/search?q=animales%20fant%C3%A1sticos%3A%20los%20cr%C3%ADmenes%20de%20grindelwald%20site%3Aimdb.com\n",
       "    (to create a valid URL from a string use `urllib.parse.quote` method)\n",
       "\n",
       "<li> Click to the youtube trailer of the first retrived movie \n",
       "</ul>\n",
       "\n",
       "</div>\n"
      ],
      "text/plain": [
       "<IPython.core.display.HTML object>"
      ]
     },
     "metadata": {},
     "output_type": "display_data"
    }
   ],
   "source": [
    "%%html\n",
    "\n",
    "<div class = \"alert alert-success\" style = \"border-radius:10px;border-width:3px;border-color:darkgreen;font-family:Verdana,sans-serif;font-size:16px;\">\n",
    "**Selenium EXERCISE 2:** <BR>\n",
    "<ul>\n",
    "<li> Open a browser \n",
    "\n",
    "<li>Go to 'http://www.cinemeseixmacia.com/'\n",
    "\n",
    "<li>Find all the movies for today between 18:00 and 20:00, and classifacation rate 16\n",
    "\n",
    "<li>Print for each movie title a link to a search using google inside imdb site. For example:\n",
    "    https://www.google.es/search?q=animales%20fant%C3%A1sticos%3A%20los%20cr%C3%ADmenes%20de%20grindelwald%20site%3Aimdb.com\n",
    "    (to create a valid URL from a string use `urllib.parse.quote` method)\n",
    "\n",
    "<li> Click to the youtube trailer of the first retrived movie \n",
    "</ul>\n",
    "\n",
    "</div>"
   ]
  },
  {
   "cell_type": "code",
   "execution_count": 1,
   "metadata": {},
   "outputs": [
    {
     "name": "stdout",
     "output_type": "stream",
     "text": [
      "\n",
      "Checking for win32 chromedriver:2.46 in cache\n",
      "Driver found in C:\\Users\\Orwell\\.wdm\\chromedriver\\2.46\\win32/chromedriver.exe\n"
     ]
    }
   ],
   "source": [
    "%reset -f\n",
    "\n",
    "from selenium import webdriver\n",
    "import time,os\n",
    "from webdriver_manager.chrome import ChromeDriverManager #install the driver automatically\n",
    "\n",
    "from selenium import webdriver\n",
    "browser = webdriver.Chrome(ChromeDriverManager().install())\n",
    "browser.get(\"http://www.cinemeseixmacia.com/\")\n",
    "\n"
   ]
  },
  {
   "cell_type": "code",
   "execution_count": 2,
   "metadata": {},
   "outputs": [
    {
     "name": "stdout",
     "output_type": "stream",
     "text": [
      "12\n"
     ]
    }
   ],
   "source": [
    "all_films = browser.find_elements_by_class_name('cat-cartell')\n",
    "print (len(all_films))\n",
    "for film in all_films:\n",
    "    all_hours = film.find_elements_by_class_name('horasessio')\n",
    "    for hour in all_hours:\n",
    "        hour.find_element_by_tag_name('button').text\n",
    "        break\n",
    "    break"
   ]
  },
  {
   "cell_type": "code",
   "execution_count": null,
   "metadata": {},
   "outputs": [],
   "source": []
  },
  {
   "cell_type": "code",
   "execution_count": null,
   "metadata": {},
   "outputs": [],
   "source": [
    "element.clear()\n",
    "\n",
    "s='Barcelona'\n",
    "\n",
    "element.send_keys(s)\n",
    "\n",
    "browser.find_element_by_class_name(\"submit_text\").click()\n",
    "\n",
    "browser.implicitly_wait(5)\n",
    "\n",
    "top_restaurants_element = browser.find_element_by_id('EATERY_SEARCH_RESULTS')"
   ]
  }
 ],
 "metadata": {
  "kernelspec": {
   "display_name": "Python 3",
   "language": "python",
   "name": "python3"
  },
  "language_info": {
   "codemirror_mode": {
    "name": "ipython",
    "version": 3
   },
   "file_extension": ".py",
   "mimetype": "text/x-python",
   "name": "python",
   "nbconvert_exporter": "python",
   "pygments_lexer": "ipython3",
   "version": "3.7.0"
  }
 },
 "nbformat": 4,
 "nbformat_minor": 2
}
