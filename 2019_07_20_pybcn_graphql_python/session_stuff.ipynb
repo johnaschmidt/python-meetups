{
 "cells": [
  {
   "cell_type": "markdown",
   "metadata": {},
   "source": [
    "We will build an API with StarWars content.\n",
    "\n",
    "Some important links:\n",
    "* https://swapi.co\n",
    "* https://swapi.graph.cool\n",
    "* https://graphql.org/learn\n",
    "\n",
    "The API provides 6 endpoints. We can test-it in swapi.co\n",
    "\n",
    "Films()\n",
    "planet(name)\n",
    "\n",
    "\n",
    "Usual libraries:\n",
    "* Graphene (Code first)\n",
    "* Ariane (Schema first)\n",
    "\n",
    "We will use schema first approach.\n",
    "\n",
    "! means it cant be empty\n",
    "\n",
    "example call with the mounted api:\n",
    "\n",
    "\n",
    "```\n",
    "{\n",
    "  Films(title:\"random\"){\n",
    "    title\n",
    "    rating\n",
    "    planets{\n",
    "      name\n",
    "      gravity\n",
    "    }\n",
    "  }\n",
    "}\n",
    "```\n",
    "\n",
    "this will return:\n",
    "\n",
    "```\n",
    "{\n",
    "  \"data\": {\n",
    "    \"Films\": {\n",
    "      \"title\": \"helloooo\",\n",
    "      \"rating\": 6.2,\n",
    "      \"planets\": [\n",
    "        {\n",
    "          \"name\": \"String\",\n",
    "          \"gravity\": \"String\"\n",
    "        },\n",
    "        {\n",
    "          \"name\": \"String\",\n",
    "          \"gravity\": \"String\"\n",
    "        }\n",
    "      ]\n",
    "    }\n",
    "  }\n",
    "}\n",
    "```\n"
   ]
  },
  {
   "cell_type": "markdown",
   "metadata": {},
   "source": []
  },
  {
   "cell_type": "code",
   "execution_count": null,
   "metadata": {},
   "outputs": [],
   "source": []
  },
  {
   "cell_type": "code",
   "execution_count": null,
   "metadata": {},
   "outputs": [],
   "source": []
  },
  {
   "cell_type": "code",
   "execution_count": null,
   "metadata": {},
   "outputs": [],
   "source": []
  }
 ],
 "metadata": {
  "kernelspec": {
   "display_name": "Python 3",
   "language": "python",
   "name": "python3"
  },
  "language_info": {
   "codemirror_mode": {
    "name": "ipython",
    "version": 3
   },
   "file_extension": ".py",
   "mimetype": "text/x-python",
   "name": "python",
   "nbconvert_exporter": "python",
   "pygments_lexer": "ipython3",
   "version": "3.7.0"
  }
 },
 "nbformat": 4,
 "nbformat_minor": 2
}
